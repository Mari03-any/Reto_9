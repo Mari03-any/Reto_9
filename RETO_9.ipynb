{
  "nbformat": 4,
  "nbformat_minor": 0,
  "metadata": {
    "colab": {
      "provenance": []
    },
    "kernelspec": {
      "name": "python3",
      "display_name": "Python 3"
    },
    "language_info": {
      "name": "python"
    }
  },
  "cells": [
    {
      "cell_type": "markdown",
      "source": [
        "1.Desarrollar un algoritmo que calcule el promedio de un arreglo de reales."
      ],
      "metadata": {
        "id": "5XU3wV7GfzG8"
      }
    },
    {
      "cell_type": "code",
      "execution_count": null,
      "metadata": {
        "colab": {
          "base_uri": "https://localhost:8080/"
        },
        "collapsed": true,
        "id": "fBBRR8uqfu22",
        "outputId": "6bd1c579-45b6-4f3b-bd05-4fa2377e96e4"
      },
      "outputs": [
        {
          "output_type": "stream",
          "name": "stdout",
          "text": [
            "Ingrese la cantidad de números: 4\n",
            "Ingrese el número 1 : 4.0\n",
            "Ingrese el número 2 : 2.1\n",
            "Ingrese el número 3 : 3.0\n",
            "Ingrese el número 4 : 3.6\n",
            "El promedio es: 3.175\n"
          ]
        }
      ],
      "source": [
        "def calcular_promedio(arreglo): #Crear la función inicial\n",
        "    if len(arreglo) == 0: # Condicional para evitar que el arreglo esté vacio\n",
        "        return \"El arreglo está vacío.\"\n",
        "\n",
        "    suma = sum(arreglo)\n",
        "    promedio = suma / len(arreglo) # Formula para calcular el promedio de los reales\n",
        "    return promedio\n",
        "\n",
        "numeros = [] # Se inicia con la lista vacía\n",
        "cantidad = int(input(\"Ingrese la cantidad de números: \")) # Se crea un rango para la cantidad de objectos en la lista\n",
        "\n",
        "for i in range(cantidad): # Se refleja el rango anterior\n",
        "    print(\"Ingrese el número\", i + 1, \": \", end=\"\") # Ingresa la cantidad x de numeros\n",
        "    num = float(input()) # Ingresar los números\n",
        "    numeros.append(num) # Agrega el ultimo número al final de la lista\n",
        "\n",
        "# Calcular y mostrar el promedio\n",
        "resultado = calcular_promedio(numeros)\n",
        "print(\"El promedio es:\", resultado)\n"
      ]
    },
    {
      "cell_type": "markdown",
      "source": [
        "2.Desarrollar un algoritmo que calcule el producto punto de dos arreglos de números enteros (reales) de igual tamaño."
      ],
      "metadata": {
        "id": "Gm2cROc3ipyW"
      }
    },
    {
      "cell_type": "code",
      "source": [
        "def calcular_producto(ar1, ar2):  # Crear la función inicial\n",
        "    if len(ar1) != len(ar2):  # Verificar si los arreglos tienen el mismo tamaño\n",
        "        return \"Los arreglos no son del mismo tamaño.\"\n",
        "    if len(ar1) == 0:  # Verificar si los arreglos están vacíos\n",
        "        return \"El arreglo está vacío.\"\n",
        "\n",
        "    producto = 0 # Iniciar en cero\n",
        "    for i in range(len(ar1)):  # Recorrer los números de los arreglos\n",
        "        producto += ar1[i] * ar2[i]  # Los numeros se convierten en productos y se van sumando\n",
        "    return producto\n",
        "\n",
        "if __name__ == \"__main__\":  # Punto de entrada del programa\n",
        "    # Ingresar datos\n",
        "    n = int(input(\"Ingrese el tamaño de los arreglos: \")) # Cantidad de objectos en las listas\n",
        "\n",
        "    # Listas vacias en los arreglos\n",
        "    arreglo1 = []\n",
        "    arreglo2 = []\n",
        "\n",
        "    print(\"Ingrese los elementos del primer arreglo:\")\n",
        "    for _ in range(n):\n",
        "        arreglo1.append(float(input())) # Agrega el ultimo número al final de la lista 1\n",
        "\n",
        "    print(\"Ingrese los elementos del segundo arreglo:\")\n",
        "    for _ in range(n):\n",
        "        arreglo2.append(float(input())) # Agrega el ultimo número al final de la lista 2\n",
        "\n",
        "    # Calcular y mostrar el producto punto\n",
        "    resultado = calcular_producto(arreglo1, arreglo2)\n",
        "    print(\"El producto punto es:\", resultado)\n"
      ],
      "metadata": {
        "colab": {
          "base_uri": "https://localhost:8080/"
        },
        "id": "QypGWLO8iqJc",
        "outputId": "cd908934-3bc1-4c55-d9be-46f47f2addee"
      },
      "execution_count": null,
      "outputs": [
        {
          "output_type": "stream",
          "name": "stdout",
          "text": [
            "Ingrese el tamaño de los arreglos: 3\n",
            "Ingrese los elementos del primer arreglo:\n",
            "1\n",
            "2\n",
            "3\n",
            "Ingrese los elementos del segundo arreglo:\n",
            "4\n",
            "5\n",
            "6\n",
            "El producto punto es: 32.0\n"
          ]
        }
      ]
    },
    {
      "cell_type": "markdown",
      "source": [
        "3.Hacer un algoritmo que deje al final de un arreglo de números todos los ceros que aparezcan en dicho arreglo."
      ],
      "metadata": {
        "id": "M7OjqytIukgx"
      }
    },
    {
      "cell_type": "code",
      "source": [
        "def mover_ceros_al_final(arreglo): # Definir la función de ceros al final\n",
        "    sin_ceros = [num for num in arreglo if num != 0]  # Crea la lista con los números distintos de 0\n",
        "    cantidad_ceros = arreglo.count(0)  # Contar la cantidad de ceros en la lista ingresada\n",
        "    return sin_ceros + [0] * cantidad_ceros  # Agregar los ceros al final de la lista\n",
        "\n",
        "if __name__ == \"__main__\":\n",
        "    # Entrada del usuario\n",
        "    n = int(input(\"Ingrese el tamaño del arreglo: \"))\n",
        "    arreglo = [] # Lista inicialmente 0vacia\n",
        "\n",
        "    print(\"Ingrese los elementos del arreglo:\")\n",
        "    for _ in range(n):\n",
        "        arreglo.append(int(input())) # Agrega el ultimo número al final de la lista\n",
        "\n",
        "    resultado = mover_ceros_al_final(arreglo) # Procesar el arreglo\n",
        "\n",
        "    print(\"Arreglo con ceros al final:\", resultado) # Mostrar resultado\n"
      ],
      "metadata": {
        "colab": {
          "base_uri": "https://localhost:8080/"
        },
        "id": "ti_cbCTSulga",
        "outputId": "af19e5db-ff75-40cc-bee8-d3ee0b36b2b7"
      },
      "execution_count": null,
      "outputs": [
        {
          "output_type": "stream",
          "name": "stdout",
          "text": [
            "Ingrese el tamaño del arreglo: 6\n",
            "Ingrese los elementos del arreglo:\n",
            "1\n",
            "0\n",
            "9\n",
            "8\n",
            "0\n",
            "0\n",
            "Arreglo con ceros al final: [1, 9, 8, 0, 0, 0]\n"
          ]
        }
      ]
    }
  ]
}